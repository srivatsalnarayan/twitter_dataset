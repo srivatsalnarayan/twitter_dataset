{
  "nbformat": 4,
  "nbformat_minor": 0,
  "metadata": {
    "colab": {
      "provenance": [],
      "mount_file_id": "1rIv_F6_nkvaNaK0Li2vrOBxjER3tjo27",
      "authorship_tag": "ABX9TyNeiRMMYGtlyGyDuc6UJW3A",
      "include_colab_link": true
    },
    "kernelspec": {
      "name": "python3",
      "display_name": "Python 3"
    },
    "language_info": {
      "name": "python"
    }
  },
  "cells": [
    {
      "cell_type": "markdown",
      "metadata": {
        "id": "view-in-github",
        "colab_type": "text"
      },
      "source": [
        "<a href=\"https://colab.research.google.com/github/srivatsalnarayan/twitter_dataset/blob/main/Sentiment_Analysis.ipynb\" target=\"_parent\"><img src=\"https://colab.research.google.com/assets/colab-badge.svg\" alt=\"Open In Colab\"/></a>"
      ]
    },
    {
      "cell_type": "code",
      "execution_count": null,
      "metadata": {
        "id": "e1v9RBWadSft"
      },
      "outputs": [],
      "source": [
        "#libraries\n",
        "import pandas as pd\n",
        "import numpy as np\n",
        "import matplotlib.pyplot as plt\n",
        "import seaborn as sns\n",
        "import re\n",
        "import string\n",
        "import warnings\n",
        "import nltk"
      ]
    },
    {
      "cell_type": "code",
      "source": [
        "df = pd.read_csv(\"/content/drive/MyDrive/Colab Notebooks/twitter/Twitter_Sentiments.csv\")"
      ],
      "metadata": {
        "id": "LDcuHu5ZdXpb"
      },
      "execution_count": null,
      "outputs": []
    },
    {
      "cell_type": "code",
      "source": [
        "def remove_pattern(input_text,patern):\n",
        "  r=re.findall(pattern,input_text)\n",
        "  for word in r:\n",
        "    input_text = re"
      ],
      "metadata": {
        "id": "ZBITrsnjd1-Z"
      },
      "execution_count": null,
      "outputs": []
    }
  ]
}